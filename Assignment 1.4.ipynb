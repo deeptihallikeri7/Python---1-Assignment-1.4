{
 "cells": [
  {
   "cell_type": "code",
   "execution_count": 12,
   "metadata": {},
   "outputs": [
    {
     "name": "stdout",
     "output_type": "stream",
     "text": [
      "Volume of the sphere with diameter 12 cm is: 904.7786842338603\n"
     ]
    }
   ],
   "source": [
    "# Importing math module to access pi value\n",
    "import math\n",
    "# defining diameter of the sphere as 12 cm\n",
    "d=12\n",
    "# calculating the radius using diameter of sphere\n",
    "r=d/2\n",
    "# declaring the constant for volume\n",
    "v=0.0\n",
    "# Caluclating the volume of the sphere using the radius given\n",
    "v=4/3 * math.pi * r**3\n",
    "\n",
    "print (\"Volume of the sphere with diameter 12 cm is:\", v)"
   ]
  },
  {
   "cell_type": "code",
   "execution_count": null,
   "metadata": {},
   "outputs": [],
   "source": []
  }
 ],
 "metadata": {
  "kernelspec": {
   "display_name": "Python 3",
   "language": "python",
   "name": "python3"
  },
  "language_info": {
   "codemirror_mode": {
    "name": "ipython",
    "version": 3
   },
   "file_extension": ".py",
   "mimetype": "text/x-python",
   "name": "python",
   "nbconvert_exporter": "python",
   "pygments_lexer": "ipython3",
   "version": "3.6.4"
  }
 },
 "nbformat": 4,
 "nbformat_minor": 2
}
